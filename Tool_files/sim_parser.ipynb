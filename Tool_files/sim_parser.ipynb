{
 "cells": [
  {
   "cell_type": "code",
   "execution_count": 1,
   "metadata": {},
   "outputs": [
    {
     "name": "stdout",
     "output_type": "stream",
     "text": [
      "Populating the interactive namespace from numpy and matplotlib\n"
     ]
    }
   ],
   "source": [
    "# jupyter specific magic operator\n",
    "%pylab inline\n",
    "# import numpy as np\n",
    "# from numpy import *\n",
    "# import matplotlib.pyplot as plt"
   ]
  },
  {
   "cell_type": "code",
   "execution_count": 2,
   "metadata": {
    "collapsed": true
   },
   "outputs": [],
   "source": [
    "fname = './ActivationStep1.inc1.id1.sim'"
   ]
  },
  {
   "cell_type": "code",
   "execution_count": 3,
   "metadata": {
    "scrolled": true
   },
   "outputs": [
    {
     "name": "stdout",
     "output_type": "stream",
     "text": [
      "# Simulation data file\r\n",
      "# Created by Cosima and  Geant4 version Name: geant4-10-02-patch-03    (27-January-2017)\r\n",
      "\r\n",
      "Type       SIM\r\n",
      "Version    101\r\n",
      "Geometry   /Users/Matt/megalib/resource/examples/geomega/special/ActivationSphere.geo.setup\r\n",
      "\r\n",
      "Date       2017-11-02 19:58:52\r\n",
      "MEGAlib    2.99.04\r\n",
      "\r\n",
      "Seed       1509677931\r\n",
      "\r\n",
      "SimulationStartAreaFarField 81.7128\r\n",
      "BeamType FarFieldAreaSource 0 180 0 360\r\n",
      "SpectralType FileDifferentialFlux\r\n",
      "\r\n",
      "TB 0\r\n",
      "\r\n",
      "SE\r\n",
      "ID 1 1\r\n",
      "TI 0.003234401\r\n",
      "ED 68305.6\r\n",
      "EC 1.91933e+06\r\n",
      "NS 0\r\n",
      "IA INIT  1; 0;0;0.000000000000e+00;   3.36560;  -3.97329;  -0.12627;0; 0.00000; 0.00000; 0.00000; 0.00000; 0.00000; 0.00000;     0.000;4;-0.54352; 0.81707; 0.19232; 0.00000; 0.00000; 0.00000;1987631.520\r\n",
      "IA ESCP  2; 1;0;4.434363369790e-09; -62.87376; 100.00000;  23.83026;4;-0.52579; 0.82892; 0.19090; 0.00000; 0.00000; 0.00000;1919325.912;0; 0.00000; 0.00000; 0.00000; 0.00000; 0.00000; 0.00000;     0.000\r\n",
      "IA BREM  3; 1;4;3.138172496050e-10;  -1.51429;   3.27991;   1.53782;3; 0.73729; 0.29293; 0.60877; 0.00000; 0.00000; 0.00000;   752.897;1; 0.79481; 0.35454;-0.49252; 0.00000; 0.00000; 0.00000;    57.907\r\n",
      "IA PHOT  4; 3;4;3.167039266736e-10;  -1.44551;   3.31059;   1.49520;1; 0.00000; 0.00000; 0.00000; 0.00000; 0.00000; 0.00000;     0.000;3; 0.40248;-0.05829;-0.91357; 0.00000; 0.00000; 0.00000;    46.840\r\n",
      "HTsim 4;  -2.50000;   0.00000;   0.00000;68305.60755;0.00000e+00;1;4\r\n",
      "SE\r\n",
      "ID 2 2\r\n",
      "TI 0.005439665\r\n",
      "ED 67369.9\r\n",
      "EC 273840\r\n",
      "NS 0\r\n",
      "IA INIT  1; 0;0;0.000000000000e+00;  -3.59053;  -5.44407;   0.41866;0; 0.00000; 0.00000; 0.00000; 0.00000; 0.00000; 0.00000;     0.000;4; 0.36438; 0.73996; 0.56541; 0.00000; 0.00000; 0.00000;341210.219\r\n",
      "IA ESCP  2; 1;0;7.870011613460e-09;  59.32413; 100.00000;  86.26149;4; 0.42240; 0.70180; 0.57363; 0.00000; 0.00000; 0.00000;273840.276;0; 0.00000; 0.00000; 0.00000; 0.00000; 0.00000; 0.00000;     0.000\r\n",
      "HTsim 4;  -2.50000;   0.00000;   0.00000;67369.94248;0.00000e+00;1\r\n",
      "SE\r\n",
      "ID 3 3\r\n",
      "TI 0.008158483\r\n",
      "ED 37561.3\r\n",
      "EC 0\r\n",
      "NS 0\r\n",
      "IA INIT  1; 0;0;0.000000000000e+00;   3.95644;   1.05436;  -3.40668;0; 0.00000; 0.00000; 0.00000; 0.00000; 0.00000; 0.00000;     0.000;4;-0.53847;-0.36937; 0.75738; 0.00000; 0.00000; 0.00000; 37561.308\r\n",
      "HTsim 4;  -2.50000;   0.00000;   0.00000;37561.30760;0.00000e+00;1\r\n",
      "SE\r\n",
      "ID 4 4\r\n",
      "TI 0.012249301\r\n",
      "ED 21791.5\r\n",
      "EC 1.34069e+06\r\n",
      "NS 0\r\n",
      "IA INIT  1; 0;0;0.000000000000e+00;  -2.30422;   0.72175;   6.53694;0; 0.00000; 0.00000; 0.00000; 0.00000; 0.00000; 0.00000;     0.000;4; 0.29173;-0.74921;-0.59463; 0.00000; 0.00000; 0.00000;1362479.930\r\n",
      "IA ESCP  2; 1;0;4.905215059604e-09;  33.90296;-100.00000; -74.12210;4; 0.26903;-0.75165;-0.60221; 0.00000; 0.00000; 0.00000;1340688.458;0; 0.00000; 0.00000; 0.00000; 0.00000; 0.00000; 0.00000;     0.000\r\n",
      "HTsim 4;  -2.50000;   0.00000;   0.00000;21791.47227;0.00000e+00;1\r\n",
      "SE\r\n",
      "ID 5 5\r\n",
      "TI 0.012254649\r\n",
      "ED 46987.8\r\n",
      "EC 468569\r\n",
      "NS 0\r\n",
      "IA INIT  1; 0;0;0.000000000000e+00;   6.69242;  -0.54918;   0.35122;0; 0.00000; 0.00000; 0.00000; 0.00000; 0.00000; 0.00000;     0.000;4;-0.81630;-0.55186; 0.17061; 0.00000; 0.00000; 0.00000;515557.153\r\n",
      "IA ESCP  2; 1;0;6.011127362024e-09;-100.00000; -77.17744;  29.00126;4;-0.79216;-0.57097; 0.21559; 0.00000; 0.00000; 0.00000;468569.388;0; 0.00000; 0.00000; 0.00000; 0.00000; 0.00000; 0.00000;     0.000\r\n",
      "HTsim 4;  -2.50000;   0.00000;   0.00000;46987.76405;0.00000e+00;1\r\n",
      "SE\r\n",
      "ID 6 6\r\n",
      "TI 0.013860008\r\n",
      "ED 18404.9\r\n",
      "EC 1.12485e+06\r\n",
      "NS 0\r\n",
      "IA INIT  1; 0;0;0.000000000000e+00;   6.60806;   2.29217;  -0.55986;0; 0.00000; 0.00000; 0.00000; 0.00000; 0.00000; 0.00000;     0.000;4;-0.91507; 0.39934;-0.05628; 0.00000; 0.00000; 0.00000;1143253.518\r\n",
      "IA ESCP  2; 1;0;4.372843330775e-09;-100.00000;  49.33476;  -8.01623;4;-0.91290; 0.40309;-0.06430; 0.00000; 0.00000; 0.00000;1124848.618;0; 0.00000; 0.00000; 0.00000; 0.00000; 0.00000; 0.00000;     0.000\r\n",
      "HTsim 4;  -2.50000;   0.00000;   0.00000;18404.89989;0.00000e+00;1\r\n",
      "SE\r\n",
      "ID 7 7\r\n",
      "TI 0.015137474\r\n",
      "ED 71457\r\n",
      "EC 4.89858e+06\r\n",
      "NS 0\r\n",
      "IA INIT  1; 0;0;0.000000000000e+00;   4.64638;   1.45091;   2.08597;0; 0.00000; 0.00000; 0.00000; 0.00000; 0.00000; 0.00000;     0.000;4;-0.97397;-0.11597;-0.19478; 0.00000; 0.00000; 0.00000;4980789.141\r\n",
      "IA INEL  2; 1;4;2.783175510839e-10;  -3.37419;   0.52174;   0.45474;4;-0.97490;-0.10464;-0.19654; 0.00000; 0.00000; 0.00000;     0.000;32071; 0.25848;-0.89803;-0.35598; 0.00000; 0.00000; 0.00000;   946.370\r\n",
      "IA INEL  3; 1;4;2.783175510839e-10;  -3.37419;   0.52174;   0.45474;4;-0.97490;-0.10464;-0.19654; 0.00000; 0.00000; 0.00000;     0.000;1;-0.82049; 0.07811;-0.56630; 0.00000; 0.00000; 0.00000;   174.865\r\n",
      "IA INEL  4; 1;4;2.783175510839e-10;  -3.37419;   0.52174;   0.45474;4;-0.97490;-0.10464;-0.19654; 0.00000; 0.00000; 0.00000;     0.000;1;-0.22254; 0.19232;-0.95577; 0.00000; 0.00000; 0.00000;  1047.046\r\n",
      "IA INEL  5; 1;4;2.783175510839e-10;  -3.37419;   0.52174;   0.45474;4;-0.97490;-0.10464;-0.19654; 0.00000; 0.00000; 0.00000;     0.000;6;-0.40758; 0.90695;-0.10641; 0.00000; 0.00000; 0.00000; 28370.897\r\n",
      "IA INEL  6; 1;4;2.783175510839e-10;  -3.37419;   0.52174;   0.45474;4;-0.97490;-0.10464;-0.19654; 0.00000; 0.00000; 0.00000;     0.000;4;-0.98134;-0.08689;-0.17155; 0.00000; 0.00000; 0.00000;4879715.916\r\n",
      "IA ESCP  7; 6;0;3.605026905837e-09;-100.00000;  -7.87906; -16.27138;4;-0.98176;-0.08533;-0.16992; 0.00000; 0.00000; 0.00000;4870025.232;0; 0.00000; 0.00000; 0.00000; 0.00000; 0.00000; 0.00000;     0.000\r\n",
      "IA ESCP  8; 5;0;1.550162880559e-08; -48.07888; 100.00000; -11.21696;6;-0.40758; 0.90695;-0.10641; 0.00000; 0.00000; 0.00000; 28370.897;0; 0.00000; 0.00000; 0.00000; 0.00000; 0.00000; 0.00000;     0.000\r\n",
      "IA BREM  9; 1;4;1.095917695434e-10;   1.50300;   1.08667;   1.43982;3;-0.57339;-0.35611; 0.73784; 0.00000; 0.00000; 0.00000;  1165.803;1;-0.47577; 0.62362; 0.62028; 0.00000; 0.00000; 0.00000;    39.087\r\n",
      "IA BREM 10; 1;4;1.033596067792e-10;   1.77607;   1.10952;   1.59003;3; 0.84921;-0.47468;-0.23136; 0.00000; 0.00000; 0.00000;   499.399;1; 0.95433;-0.29631;-0.03813; 0.00000; 0.00000; 0.00000;    64.566\r\n",
      "IA BREM 11; 1;4;7.417974329635e-11;   2.59657;   1.24536;   1.59686;3; 0.96643; 0.07440; 0.24591; 0.00000; 0.00000; 0.00000;  1207.042;1; 0.93634; 0.26975; 0.22473; 0.00000; 0.00000; 0.00000;    40.814\r\n",
      "IA PHOT 12;11;4;7.591379315283e-11;   2.64524;   1.25939;   1.60855;1; 0.00000; 0.00000; 0.00000; 0.00000; 0.00000; 0.00000;     0.000;3; 0.36350; 0.46878; 0.80505; 0.00000; 0.00000; 0.00000;    29.747\r\n",
      "IA PHOT 13;10;4;1.036531137196e-10;   1.78447;   1.10691;   1.58969;1; 0.00000; 0.00000; 0.00000; 0.00000; 0.00000; 0.00000;     0.000;3;-0.80929; 0.15835;-0.56567; 0.00000; 0.00000; 0.00000;    53.499\r\n",
      "IA PHOT 14; 9;4;1.100700660362e-10;   1.49618;   1.09561;   1.44871;1; 0.00000; 0.00000; 0.00000; 0.00000; 0.00000; 0.00000;     0.000;3;-0.18821;-0.38472; 0.90364; 0.00000; 0.00000; 0.00000;    28.020\r\n",
      "IA PHOT 15; 3;4;3.021539570540e-10;  -3.96051;   0.57756;   0.05007;1; 0.00000; 0.00000; 0.00000; 0.00000; 0.00000; 0.00000;     0.000;3;-0.96209;-0.24974;-0.10962; 0.00000; 0.00000; 0.00000;   163.798\r\n",
      "IA COMP 16; 4;4;3.106235540335e-10;  -3.58972;   0.70801;  -0.47092;1;-0.52539;-0.42623;-0.73641;-0.78255; 0.58185; 0.22153;   680.242;3; 0.17474; 0.69024;-0.70217; 0.00000; 0.00000; 0.00000;   366.675\r\n",
      "IA COMP 17; 4;4;3.291951623726e-10;  -3.88224;   0.47070;  -0.88093;1; 0.05344;-0.05016;-0.99731;-0.80188; 0.59304;-0.07279;   495.944;3;-0.82283;-0.56813;-0.01356; 0.00000; 0.00000; 0.00000;   182.895\r\n",
      "IA COMP 18; 4;4;3.376426786308e-10;  -3.86870;   0.45799;  -1.13350;1;-0.22342; 0.57537;-0.78679; 0.82424;-0.31935;-0.46759;   408.777;3; 0.35297;-0.77904;-0.51818; 0.00000; 0.00000; 0.00000;    87.129\r\n",
      "IA COMP 19; 4;4;3.680380786348e-10;  -4.07229;   0.98229;  -1.85044;1;-0.13963; 0.91796; 0.37129; 0.91356; 0.26407;-0.30930;   258.712;3;-0.13103;-0.00543;-0.99136; 0.00000; 0.00000; 0.00000;   150.026\r\n",
      "IA COMP 20; 4;4;4.069581003807e-10;  -4.23522;   2.05335;  -1.41722;1;-0.41591; 0.68242;-0.60110;-0.90790;-0.27354; 0.31765;   186.553;3; 0.17336; 0.46067; 0.87048; 0.00000; 0.00000; 0.00000;    61.092\r\n",
      "IA ESCP 21; 4;0;5.194582946999e-09; -63.93075; 100.00000; -87.69341;1;-0.41591; 0.68242;-0.60110;-0.90790;-0.27354; 0.31765;   186.553;0; 0.00000; 0.00000; 0.00000; 0.00000; 0.00000; 0.00000;     0.000\r\n",
      "HTsim 4;  -2.50000;   0.00000;   0.00000;71456.95225;0.00000e+00;1;2;6;12;13;14;15;16;17;18;19;20\r\n",
      "SE\r\n",
      "ID 8 8\r\n",
      "TI 0.020175289\r\n",
      "ED 32474.3\r\n",
      "EC 0\r\n",
      "NS 0\r\n",
      "IA INIT  1; 0;0;0.000000000000e+00;  -2.60335;  -4.82734;  -0.80616;0; 0.00000; 0.00000; 0.00000; 0.00000; 0.00000; 0.00000;     0.000;4; 0.45494; 0.72471; 0.51751; 0.00000; 0.00000; 0.00000; 32474.292\r\n",
      "HTsim 4;  -2.50000;   0.00000;   0.00000;32474.29182;0.00000e+00;1\r\n",
      "SE\r\n",
      "ID 9 10\r\n",
      "TI 0.028103345\r\n",
      "ED 177346\r\n",
      "EC 100536\r\n",
      "NS 0\r\n",
      "IA INIT  1; 0;0;0.000000000000e+00;  -0.52345;   3.81978;   3.34593;0; 0.00000; 0.00000; 0.00000; 0.00000; 0.00000; 0.00000;     0.000;4; 0.14407;-0.75281;-0.64227; 0.00000; 0.00000; 0.00000;330420.257\r\n",
      "IA INEL  2; 1;4;3.858598729756e-10;   0.73596;  -1.78896;  -1.56697;4; 0.20696;-0.72116;-0.66113; 0.00000; 0.00000; 0.00000;     0.000;27059;-0.95937;-0.15200;-0.23771; 0.00000; 0.00000; 0.00000;  2695.429\r\n",
      "IA INEL  3; 1;4;3.858598729756e-10;   0.73596;  -1.78896;  -1.56697;4; 0.20696;-0.72116;-0.66113; 0.00000; 0.00000; 0.00000;     0.000;1; 0.87834;-0.31650;-0.35826; 0.00000; 0.00000; 0.00000;  2877.818\r\n",
      "IA INEL  4; 1;4;3.858598729756e-10;   0.73596;  -1.78896;  -1.56697;4; 0.20696;-0.72116;-0.66113; 0.00000; 0.00000; 0.00000;     0.000;6;-0.92374; 0.22995; 0.30632; 0.00000; 0.00000; 0.00000;  1050.843\r\n",
      "IA INEL  5; 1;4;3.858598729756e-10;   0.73596;  -1.78896;  -1.56697;4; 0.20696;-0.72116;-0.66113; 0.00000; 0.00000; 0.00000;     0.000;21; 0.96360;-0.03365;-0.26521; 0.00000; 0.00000; 0.00000;  5929.024\r\n",
      "IA INEL  6; 1;4;3.858598729756e-10;   0.73596;  -1.78896;  -1.56697;4; 0.20696;-0.72116;-0.66113; 0.00000; 0.00000; 0.00000;     0.000;6; 0.73646;-0.33926;-0.58526; 0.00000; 0.00000; 0.00000;  1260.944\r\n",
      "IA INEL  7; 1;4;3.858598729756e-10;   0.73596;  -1.78896;  -1.56697;4; 0.20696;-0.72116;-0.66113; 0.00000; 0.00000; 0.00000;     0.000;6;-0.94804; 0.28571; 0.13999; 0.00000; 0.00000; 0.00000;  1525.547\r\n",
      "IA INEL  8; 1;4;3.858598729756e-10;   0.73596;  -1.78896;  -1.56697;4; 0.20696;-0.72116;-0.66113; 0.00000; 0.00000; 0.00000;     0.000;21; 0.91459; 0.04945; 0.40134; 0.00000; 0.00000; 0.00000;  8818.845\r\n",
      "IA INEL  9; 1;4;3.858598729756e-10;   0.73596;  -1.78896;  -1.56697;4; 0.20696;-0.72116;-0.66113; 0.00000; 0.00000; 0.00000;     0.000;18;-0.45805;-0.71456;-0.52876; 0.00000; 0.00000; 0.00000; 10677.028\r\n",
      "IA INEL 10; 1;4;3.858598729756e-10;   0.73596;  -1.78896;  -1.56697;4; 0.20696;-0.72116;-0.66113; 0.00000; 0.00000; 0.00000;     0.000;4; 0.68036;-0.54200;-0.49330; 0.00000; 0.00000; 0.00000;151276.504\r\n",
      "IA ESCP 11;10;0;1.225062585106e-08; 100.00000; -76.29785; -83.25115;4; 0.66790;-0.50134;-0.55006; 0.00000; 0.00000; 0.00000; 93932.532;0; 0.00000; 0.00000; 0.00000; 0.00000; 0.00000; 0.00000;     0.000\r\n",
      "IA ESCP 12; 4;0;1.116577391034e-07; -73.47736;-100.00000; -53.71445;6;-0.54508;-0.72537;-0.42038; 0.00000; 0.00000; 0.00000;   939.201;0; 0.00000; 0.00000; 0.00000; 0.00000; 0.00000; 0.00000;     0.000\r\n",
      "IA ESCP 13; 6;0;8.725646668633e-08; 100.00000; -47.51602; -80.45127;6; 0.73646;-0.33926;-0.58526; 0.00000; 0.00000; 0.00000;  1260.944;0; 0.00000; 0.00000; 0.00000; 0.00000; 0.00000; 0.00000;     0.000\r\n",
      "IA ESCP 14; 7;0;6.266138679726e-08;-100.00000;  28.57028;  13.30786;6;-0.94804; 0.28571; 0.13999; 0.00000; 0.00000; 0.00000;  1525.547;0; 0.00000; 0.00000; 0.00000; 0.00000; 0.00000; 0.00000;     0.000\r\n",
      "IA ESCP 15; 3;0;4.155585520697e-09; 100.00000; -37.55795; -42.05509;1; 0.87834;-0.31650;-0.35826; 0.00000; 0.00000; 0.00000;  2877.818;0; 0.00000; 0.00000; 0.00000; 0.00000; 0.00000; 0.00000;     0.000\r\n",
      "HTsim 4;  -2.50000;   0.00000;   0.00000;177346.20067;0.00000e+00;1;2;4;5;8;9;10\r\n",
      "SE\r\n",
      "ID 10 11\r\n",
      "TI 0.031832617\r\n",
      "ED 120267\r\n",
      "EC 0\r\n",
      "NS 0\r\n",
      "IA INIT  1; 0;0;0.000000000000e+00;  -0.19311;  -5.72483;   3.73325;0; 0.00000; 0.00000; 0.00000; 0.00000; 0.00000; 0.00000;     0.000;4; 0.60606; 0.43700;-0.66463; 0.00000; 0.00000; 0.00000;120267.073\r\n",
      "HTsim 4;  -2.50000;   0.00000;   0.00000;120267.07319;0.00000e+00;1\r\n",
      "SE\r\n",
      "ID 11 12\r\n",
      "TI 0.037724805\r\n",
      "ED 95030.2\r\n",
      "EC 483493\r\n",
      "NS 0\r\n",
      "IA INIT  1; 0;0;0.000000000000e+00;  -5.10897;  -0.36239;   0.03172;0; 0.00000; 0.00000; 0.00000; 0.00000; 0.00000; 0.00000;     0.000;4; 0.99967;-0.01845; 0.01812; 0.00000; 0.00000; 0.00000;578523.477\r\n",
      "IA ESCP  2; 1;0;4.654357783357e-09; 100.00000;  -0.54617;   3.99432;4; 0.99920; 0.00036; 0.03987; 0.00000; 0.00000; 0.00000;483493.274;0; 0.00000; 0.00000; 0.00000; 0.00000; 0.00000; 0.00000;     0.000\r\n",
      "HTsim 4;  -2.50000;   0.00000;   0.00000;95030.20296;0.00000e+00;1\r\n",
      "SE\r\n",
      "ID 12 13\r\n",
      "TI 0.041413592\r\n",
      "ED 89455\r\n",
      "EC 484042\r\n",
      "NS 0\r\n",
      "IA INIT  1; 0;0;0.000000000000e+00;  -2.16785;   1.39038;   4.52201;0; 0.00000; 0.00000; 0.00000; 0.00000; 0.00000; 0.00000;     0.000;4; 0.43844;-0.44522;-0.78074; 0.00000; 0.00000; 0.00000;573497.446\r\n",
      "IA ESCP  2; 1;0;6.077749790435e-09;  59.94301; -62.21470;-100.00000;4; 0.45353;-0.46507;-0.76028; 0.00000; 0.00000; 0.00000;484042.456;0; 0.00000; 0.00000; 0.00000; 0.00000; 0.00000; 0.00000;     0.000\r\n",
      "IA BREM  3; 1;4;2.917906819360e-10;   0.76707;  -1.62986;  -0.82126;3; 0.79897; 0.59943; 0.04828; 0.00000; 0.00000; 0.00000;   475.482;1; 0.99346; 0.10145;-0.05245; 0.00000; 0.00000; 0.00000;   112.225\r\n",
      "IA BREM  4; 1;4;2.922868915478e-10;   0.77527;  -1.62486;  -0.82434;3;-0.77810;-0.60784;-0.15841; 0.00000; 0.00000; 0.00000;    58.899;1;-0.54435;-0.40686; 0.73359; 0.00000; 0.00000; 0.00000;   113.053\r\n",
      "IA BREM  5; 1;4;1.444251442559e-10;  -0.68350;  -0.12873;   1.87083;3;-0.43742; 0.82630; 0.35482; 0.00000; 0.00000; 0.00000;   836.178;1;-0.51684; 0.57182; 0.63710; 0.00000; 0.00000; 0.00000;    42.766\r\n",
      "IA PHOT  6; 5;4;1.444412807016e-10;  -0.68375;  -0.12845;   1.87114;1; 0.00000; 0.00000; 0.00000; 0.00000; 0.00000; 0.00000;     0.000;3;-0.61965;-0.54746; 0.56242; 0.00000; 0.00000; 0.00000;    41.364\r\n",
      "IA PHOT  7; 4;4;2.942270863538e-10;   0.74361;  -1.64853;  -0.78167;1; 0.00000; 0.00000; 0.00000; 0.00000; 0.00000; 0.00000;     0.000;3; 0.08392;-0.75698; 0.64803; 0.00000; 0.00000; 0.00000;   101.986\r\n",
      "IA COMP  8; 3;4;3.156436863432e-10;   1.47748;  -1.55731;  -0.85877;1;-0.93195;-0.34131;-0.12234; 0.24401;-0.34084;-0.90790;    82.008;3; 0.97852; 0.20503; 0.02159; 0.00000; 0.00000; 0.00000;    30.178\r\n",
      "IA PHOT  9; 3;4;3.337244956988e-10;   0.97232;  -1.74232;  -0.92508;1; 0.00000; 0.00000; 0.00000; 0.00000; 0.00000; 0.00000;     0.000;3; 0.03693; 0.48844; 0.87182; 0.00000; 0.00000; 0.00000;    70.941\r\n",
      "HTsim 4;  -2.50000;   0.00000;   0.00000;89454.98953;0.00000e+00;1;6;7;8;9\r\n",
      "SE\r\n",
      "ID 13 14\r\n",
      "TI 0.041826198\r\n",
      "ED 29845.4\r\n",
      "EC 1.46138e+06\r\n",
      "NS 0\r\n",
      "IA INIT  1; 0;0;0.000000000000e+00;   6.15931;   0.63354;  -2.84283;0; 0.00000; 0.00000; 0.00000; 0.00000; 0.00000; 0.00000;     0.000;4;-0.47427; 0.29033; 0.83113; 0.00000; 0.00000; 0.00000;1491224.150\r\n",
      "IA ESCP  2; 1;0;4.499940134641e-09; -52.94931;  37.36975; 100.00000;4;-0.47611; 0.29618; 0.82801; 0.00000; 0.00000; 0.00000;1461378.723;0; 0.00000; 0.00000; 0.00000; 0.00000; 0.00000; 0.00000;     0.000\r\n",
      "HTsim 4;  -2.50000;   0.00000;   0.00000;29845.42656;0.00000e+00;1\r\n",
      "SE\r\n",
      "ID 14 16\r\n",
      "TI 0.042488088\r\n",
      "ED 265508\r\n",
      "EC 381496\r\n",
      "NS 0\r\n",
      "IA INIT  1; 0;0;0.000000000000e+00;  -0.30742;   5.67954;   2.66276;0; 0.00000; 0.00000; 0.00000; 0.00000; 0.00000; 0.00000;     0.000;4;-0.53168;-0.71092;-0.46034; 0.00000; 0.00000; 0.00000;778587.840\r\n",
      "IA INEL  2; 1;4;1.638112800804e-10;  -2.48533;   2.76247;   0.75863;4;-0.52471;-0.70462;-0.47769; 0.00000; 0.00000; 0.00000;     0.000;31067;-0.93072;-0.33599; 0.14445; 0.00000; 0.00000; 0.00000;   589.971\r\n",
      "IA INEL  3; 1;4;1.638112800804e-10;  -2.48533;   2.76247;   0.75863;4;-0.52471;-0.70462;-0.47769; 0.00000; 0.00000; 0.00000;     0.000;1;-0.55098;-0.58238; 0.59771; 0.00000; 0.00000; 0.00000;   360.367\r\n",
      "IA INEL  4; 1;4;1.638112800804e-10;  -2.48533;   2.76247;   0.75863;4;-0.52471;-0.70462;-0.47769; 0.00000; 0.00000; 0.00000;     0.000;1;-0.19724;-0.44206; 0.87503; 0.00000; 0.00000; 0.00000;  1162.372\r\n",
      "IA INEL  5; 1;4;1.638112800804e-10;  -2.48533;   2.76247;   0.75863;4;-0.52471;-0.70462;-0.47769; 0.00000; 0.00000; 0.00000;     0.000;1; 0.88805; 0.23787;-0.39343; 0.00000; 0.00000; 0.00000;   552.258\r\n",
      "IA INEL  6; 1;4;1.638112800804e-10;  -2.48533;   2.76247;   0.75863;4;-0.52471;-0.70462;-0.47769; 0.00000; 0.00000; 0.00000;     0.000;1;-0.60465; 0.62014; 0.49982; 0.00000; 0.00000; 0.00000;   959.796\r\n",
      "IA INEL  7; 1;4;1.638112800804e-10;  -2.48533;   2.76247;   0.75863;4;-0.52471;-0.70462;-0.47769; 0.00000; 0.00000; 0.00000;     0.000;1; 0.61736;-0.54432;-0.56796; 0.00000; 0.00000; 0.00000;   545.044\r\n",
      "IA INEL  8; 1;4;1.638112800804e-10;  -2.48533;   2.76247;   0.75863;4;-0.52471;-0.70462;-0.47769; 0.00000; 0.00000; 0.00000;     0.000;1; 0.80595;-0.40372;-0.43297; 0.00000; 0.00000; 0.00000;   710.439\r\n",
      "IA INEL  9; 1;4;1.638112800804e-10;  -2.48533;   2.76247;   0.75863;4;-0.52471;-0.70462;-0.47769; 0.00000; 0.00000; 0.00000;     0.000;1;-0.09623; 0.76780;-0.63342; 0.00000; 0.00000; 0.00000;   983.390\r\n",
      "IA INEL 10; 1;4;1.638112800804e-10;  -2.48533;   2.76247;   0.75863;4;-0.52471;-0.70462;-0.47769; 0.00000; 0.00000; 0.00000;     0.000;6;-0.82339; 0.50412;-0.26055; 0.00000; 0.00000; 0.00000;  1156.029\r\n",
      "IA INEL 11; 1;4;1.638112800804e-10;  -2.48533;   2.76247;   0.75863;4;-0.52471;-0.70462;-0.47769; 0.00000; 0.00000; 0.00000;     0.000;6; 0.31387; 0.05629; 0.94779; 0.00000; 0.00000; 0.00000;  3096.954\r\n",
      "IA INEL 12; 1;4;1.638112800804e-10;  -2.48533;   2.76247;   0.75863;4;-0.52471;-0.70462;-0.47769; 0.00000; 0.00000; 0.00000;     0.000;6;-0.88259;-0.15526; 0.44376; 0.00000; 0.00000; 0.00000;  1112.351\r\n",
      "IA INEL 13; 1;4;1.638112800804e-10;  -2.48533;   2.76247;   0.75863;4;-0.52471;-0.70462;-0.47769; 0.00000; 0.00000; 0.00000;     0.000;6;-0.00830;-0.88527; 0.46500; 0.00000; 0.00000; 0.00000;  2156.468\r\n",
      "IA INEL 14; 1;4;1.638112800804e-10;  -2.48533;   2.76247;   0.75863;4;-0.52471;-0.70462;-0.47769; 0.00000; 0.00000; 0.00000;     0.000;4;-0.16767; 0.24115;-0.95589; 0.00000; 0.00000; 0.00000; 22405.459\r\n",
      "IA INEL 15; 1;4;1.638112800804e-10;  -2.48533;   2.76247;   0.75863;4;-0.52471;-0.70462;-0.47769; 0.00000; 0.00000; 0.00000;     0.000;6; 0.09338; 0.71896;-0.68875; 0.00000; 0.00000; 0.00000;  1474.457\r\n",
      "IA INEL 16; 1;4;1.638112800804e-10;  -2.48533;   2.76247;   0.75863;4;-0.52471;-0.70462;-0.47769; 0.00000; 0.00000; 0.00000;     0.000;4;-0.41445;-0.71624; 0.56146; 0.00000; 0.00000; 0.00000; 69975.691\r\n",
      "IA INEL 17; 1;4;1.638112800804e-10;  -2.48533;   2.76247;   0.75863;4;-0.52471;-0.70462;-0.47769; 0.00000; 0.00000; 0.00000;     0.000;4;-0.60087;-0.59580;-0.53289; 0.00000; 0.00000; 0.00000;131198.757\r\n",
      "IA INEL 18; 1;4;1.638112800804e-10;  -2.48533;   2.76247;   0.75863;4;-0.52471;-0.70462;-0.47769; 0.00000; 0.00000; 0.00000;     0.000;6;-0.26816; 0.32553;-0.90671; 0.00000; 0.00000; 0.00000; 95671.025\r\n",
      "IA INEL 19; 1;4;1.638112800804e-10;  -2.48533;   2.76247;   0.75863;4;-0.52471;-0.70462;-0.47769; 0.00000; 0.00000; 0.00000;     0.000;6; 0.36344;-0.93024;-0.05068; 0.00000; 0.00000; 0.00000;168118.318\r\n",
      "IA INEL 20; 1;4;1.638112800804e-10;  -2.48533;   2.76247;   0.75863;4;-0.52471;-0.70462;-0.47769; 0.00000; 0.00000; 0.00000;     0.000;25;-0.35401; 0.17696;-0.91835; 0.00000; 0.00000; 0.00000; 37427.730\r\n",
      "IA INEL 21;17;4;4.057642960180e-10;  -4.42989;   1.06078;  -0.85634;4;-0.66356;-0.45939;-0.59047; 0.00000; 0.00000; 0.00000;     0.000;32071;-0.21688;-0.38236;-0.89820; 0.00000; 0.00000; 0.00000;   560.702\r\n"
     ]
    }
   ],
   "source": [
    "!head -n 200 $fname"
   ]
  },
  {
   "cell_type": "markdown",
   "metadata": {},
   "source": [
    "# The hit key\n",
    "\n",
    "```\n",
    "HT\n",
    "1. Detector ID (see table of detector IDs) \n",
    "2. x position of interaction in cm\n",
    "3. y position of interaction in cm\n",
    "4: z position of interaction in cm\n",
    "5: Energy deposit in keV\n",
    "6: Time since start of event in seconds\n",
    "7: Vector of IDs of the interactions which contributed to this hit\n",
    "```"
   ]
  },
  {
   "cell_type": "code",
   "execution_count": 4,
   "metadata": {},
   "outputs": [
    {
     "name": "stdout",
     "output_type": "stream",
     "text": [
      "0\n",
      "100000\n",
      "200000\n",
      "300000\n",
      "400000\n",
      "500000\n",
      "600000\n",
      "700000\n",
      "800000\n",
      "900000\n",
      "1000000\n",
      "1100000\n"
     ]
    }
   ],
   "source": [
    "energies = []\n",
    "with open(fname, 'r') as infile:\n",
    "    for i, l in enumerate(infile):\n",
    "        if i < 1e100:  # stop after n lines\n",
    "            if l.startswith('HTsim'):\n",
    "                data = [x.strip() for x in l.split(';')]  # break on `;` and strip whitespace\n",
    "                energy_keV = float(data[4])\n",
    "                energies.append(energy_keV)\n",
    "        if i % 100000 == 0:\n",
    "            print(i)"
   ]
  },
  {
   "cell_type": "code",
   "execution_count": 5,
   "metadata": {},
   "outputs": [
    {
     "data": {
      "text/plain": [
       "list"
      ]
     },
     "execution_count": 5,
     "metadata": {},
     "output_type": "execute_result"
    }
   ],
   "source": [
    "type(energies)"
   ]
  },
  {
   "cell_type": "code",
   "execution_count": 6,
   "metadata": {},
   "outputs": [
    {
     "data": {
      "text/plain": [
       "array([ 68305.60755,  67369.94248,  37561.3076 , ...,  81117.81555,\n",
       "        13848.96875,  27573.65079])"
      ]
     },
     "execution_count": 6,
     "metadata": {},
     "output_type": "execute_result"
    }
   ],
   "source": [
    "nrg = np.array(energies)\n",
    "nrg"
   ]
  },
  {
   "cell_type": "code",
   "execution_count": 7,
   "metadata": {},
   "outputs": [
    {
     "data": {
      "text/plain": [
       "102799.20904764417"
      ]
     },
     "execution_count": 7,
     "metadata": {},
     "output_type": "execute_result"
    }
   ],
   "source": [
    "nrg.mean()"
   ]
  },
  {
   "cell_type": "code",
   "execution_count": 8,
   "metadata": {},
   "outputs": [
    {
     "data": {
      "text/plain": [
       "174784.37338869571"
      ]
     },
     "execution_count": 8,
     "metadata": {},
     "output_type": "execute_result"
    }
   ],
   "source": [
    "nrg.std()"
   ]
  },
  {
   "cell_type": "code",
   "execution_count": 9,
   "metadata": {
    "collapsed": true
   },
   "outputs": [],
   "source": [
    "counts, bin_edges = np.histogram(nrg, bins=1000)"
   ]
  },
  {
   "cell_type": "code",
   "execution_count": 10,
   "metadata": {},
   "outputs": [
    {
     "data": {
      "text/plain": [
       "array([  3.97488930e+02,   1.04474758e+04,   2.04974626e+04, ...,\n",
       "         1.00302844e+07,   1.00403343e+07,   1.00503843e+07])"
      ]
     },
     "execution_count": 10,
     "metadata": {},
     "output_type": "execute_result"
    }
   ],
   "source": [
    "bin_edges"
   ]
  },
  {
   "cell_type": "code",
   "execution_count": 11,
   "metadata": {},
   "outputs": [
    {
     "data": {
      "text/plain": [
       "dtype('int64')"
      ]
     },
     "execution_count": 11,
     "metadata": {},
     "output_type": "execute_result"
    }
   ],
   "source": [
    "counts.dtype"
   ]
  },
  {
   "cell_type": "code",
   "execution_count": 12,
   "metadata": {
    "collapsed": true
   },
   "outputs": [],
   "source": [
    "bin_centers = (bin_edges[1:]+bin_edges[:-1])/2"
   ]
  },
  {
   "cell_type": "code",
   "execution_count": 13,
   "metadata": {},
   "outputs": [
    {
     "data": {
      "text/plain": [
       "1000"
      ]
     },
     "execution_count": 13,
     "metadata": {},
     "output_type": "execute_result"
    }
   ],
   "source": [
    "len(bin_centers)"
   ]
  },
  {
   "cell_type": "code",
   "execution_count": 14,
   "metadata": {},
   "outputs": [
    {
     "data": {
      "text/plain": [
       "1000"
      ]
     },
     "execution_count": 14,
     "metadata": {},
     "output_type": "execute_result"
    }
   ],
   "source": [
    "len(counts)"
   ]
  },
  {
   "cell_type": "code",
   "execution_count": 15,
   "metadata": {},
   "outputs": [
    {
     "data": {
      "text/plain": [
       "[<matplotlib.lines.Line2D at 0x1194e70f0>]"
      ]
     },
     "execution_count": 15,
     "metadata": {},
     "output_type": "execute_result"
    },
    {
     "data": {
      "image/png": "[encoded data removed]",
      "text/plain": [
       "<matplotlib.figure.Figure at 0x115ee9be0>"
      ]
     },
     "metadata": {},
     "output_type": "display_data"
    }
   ],
   "source": [
    "semilogy(bin_centers, counts)"
   ]
  },
  {
   "cell_type": "code",
   "execution_count": 16,
   "metadata": {},
   "outputs": [
    {
     "data": {
      "text/plain": [
       "[<matplotlib.lines.Line2D at 0x119953b38>]"
      ]
     },
     "execution_count": 16,
     "metadata": {},
     "output_type": "execute_result"
    },
    {
     "data": {
      "image/png": "[encoded data removed]",
      "text/plain": [
       "<matplotlib.figure.Figure at 0x11965d2e8>"
      ]
     },
     "metadata": {},
     "output_type": "display_data"
    }
   ],
   "source": [
    "counts, bin_edges = np.histogram(nrg, bins=np.linspace(0, 2e6))\n",
    "bin_centers = (bin_edges[1:]+bin_edges[:-1])/2\n",
    "semilogy(bin_centers, counts, linestyle='steps-mid', color='r')\n",
    "semilogy(bin_centers, counts/2, linestyle='steps-mid', color='b')\n"
   ]
  },
  {
   "cell_type": "code",
   "execution_count": null,
   "metadata": {
    "collapsed": true
   },
   "outputs": [],
   "source": []
  }
 ],
 "metadata": {
  "kernelspec": {
   "display_name": "Python 3",
   "language": "python",
   "name": "python3"
  },
  "language_info": {
   "codemirror_mode": {
    "name": "ipython",
    "version": 3
   },
   "file_extension": ".py",
   "mimetype": "text/x-python",
   "name": "python",
   "nbconvert_exporter": "python",
   "pygments_lexer": "ipython3",
   "version": "3.6.3"
  }
 },
 "nbformat": 4,
 "nbformat_minor": 2
}
